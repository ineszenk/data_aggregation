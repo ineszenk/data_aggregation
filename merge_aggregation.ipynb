{
 "nbformat": 4,
 "nbformat_minor": 2,
 "metadata": {
  "language_info": {
   "name": "python",
   "codemirror_mode": {
    "name": "ipython",
    "version": 3
   },
   "version": "3.8.3-final"
  },
  "orig_nbformat": 2,
  "file_extension": ".py",
  "mimetype": "text/x-python",
  "name": "python",
  "npconvert_exporter": "python",
  "pygments_lexer": "ipython3",
  "version": 3,
  "kernelspec": {
   "name": "python38364bit9f63d6471ae846cba0579e4b11091e43",
   "display_name": "Python 3.8.3 64-bit"
  }
 },
 "cells": [
  {
   "cell_type": "code",
   "execution_count": 69,
   "metadata": {},
   "outputs": [],
   "source": [
    "import pandas as pd\n",
    "import numpy as np"
   ]
  },
  {
   "cell_type": "code",
   "execution_count": 70,
   "metadata": {},
   "outputs": [],
   "source": [
    "df_GHA = pd.read_csv('2019.11.01.009-GHA_.csv',sep=';', parse_dates=[0]) \n",
    "df_GHB = pd.read_csv('2019.11.01.009-GHB_.csv',sep=';')\n",
    "df_meteo = pd.read_csv('METEO_311314.csv',sep=';') "
   ]
  },
  {
   "cell_type": "code",
   "execution_count": 71,
   "metadata": {},
   "outputs": [
    {
     "data": {
      "text/html": "<div>\n<style scoped>\n    .dataframe tbody tr th:only-of-type {\n        vertical-align: middle;\n    }\n\n    .dataframe tbody tr th {\n        vertical-align: top;\n    }\n\n    .dataframe thead tr th {\n        text-align: left;\n    }\n\n    .dataframe thead tr:last-of-type th {\n        text-align: right;\n    }\n</style>\n<table border=\"1\" class=\"dataframe\">\n  <thead>\n    <tr>\n      <th>cmd_name</th>\n      <th>Backward Temperature</th>\n      <th>Forward Temperature</th>\n    </tr>\n    <tr>\n      <th>enno_serial</th>\n      <th>2019.11.01.009-GH-A</th>\n      <th>2019.11.01.009-GH-A</th>\n    </tr>\n    <tr>\n      <th>tmp</th>\n      <th></th>\n      <th></th>\n    </tr>\n  </thead>\n  <tbody>\n    <tr>\n      <th>2021-01-01 01:00:00</th>\n      <td>28.48</td>\n      <td>34.26</td>\n    </tr>\n    <tr>\n      <th>2021-01-01 01:15:00</th>\n      <td>30.02</td>\n      <td>34.14</td>\n    </tr>\n    <tr>\n      <th>2021-01-01 01:30:00</th>\n      <td>30.80</td>\n      <td>34.62</td>\n    </tr>\n    <tr>\n      <th>2021-01-01 01:45:00</th>\n      <td>27.02</td>\n      <td>33.23</td>\n    </tr>\n    <tr>\n      <th>2021-01-01 02:00:00</th>\n      <td>26.15</td>\n      <td>32.75</td>\n    </tr>\n  </tbody>\n</table>\n</div>",
      "text/plain": "cmd_name            Backward Temperature Forward Temperature\nenno_serial          2019.11.01.009-GH-A 2019.11.01.009-GH-A\ntmp                                                         \n2021-01-01 01:00:00                28.48               34.26\n2021-01-01 01:15:00                30.02               34.14\n2021-01-01 01:30:00                30.80               34.62\n2021-01-01 01:45:00                27.02               33.23\n2021-01-01 02:00:00                26.15               32.75"
     },
     "execution_count": 71,
     "metadata": {},
     "output_type": "execute_result"
    }
   ],
   "source": [
    "df_GHA.reset_index()\n",
    "df_GHA=df_GHA.drop([\"id\", \"cmd_id\", \"device_name\", \"createdAt\", \"updatedAt\"], axis=1)\n",
    "df_GHA = df_GHA.pivot_table(index=[\"tmp\"], columns=[\"cmd_name\", \"enno_serial\"], values=\"value\")\n",
    "\n",
    "df_GHA.head()\n",
    "\n"
   ]
  },
  {
   "cell_type": "code",
   "execution_count": 72,
   "metadata": {},
   "outputs": [
    {
     "data": {
      "text/html": "<div>\n<style scoped>\n    .dataframe tbody tr th:only-of-type {\n        vertical-align: middle;\n    }\n\n    .dataframe tbody tr th {\n        vertical-align: top;\n    }\n\n    .dataframe thead tr th {\n        text-align: left;\n    }\n\n    .dataframe thead tr:last-of-type th {\n        text-align: right;\n    }\n</style>\n<table border=\"1\" class=\"dataframe\">\n  <thead>\n    <tr>\n      <th>cmd_name</th>\n      <th>Backward Temperature</th>\n      <th>Forward Temperature</th>\n    </tr>\n    <tr>\n      <th>enno_serial</th>\n      <th>2019.11.01.009-GH-B</th>\n      <th>2019.11.01.009-GH-B</th>\n    </tr>\n    <tr>\n      <th>tmp</th>\n      <th></th>\n      <th></th>\n    </tr>\n  </thead>\n  <tbody>\n    <tr>\n      <th>2021-01-01 01:00:00</th>\n      <td>41.37</td>\n      <td>53.48</td>\n    </tr>\n    <tr>\n      <th>2021-01-01 01:15:00</th>\n      <td>42.84</td>\n      <td>53.18</td>\n    </tr>\n    <tr>\n      <th>2021-01-01 01:30:00</th>\n      <td>43.02</td>\n      <td>51.48</td>\n    </tr>\n    <tr>\n      <th>2021-01-01 01:45:00</th>\n      <td>42.83</td>\n      <td>53.72</td>\n    </tr>\n    <tr>\n      <th>2021-01-01 02:00:00</th>\n      <td>45.08</td>\n      <td>54.26</td>\n    </tr>\n  </tbody>\n</table>\n</div>",
      "text/plain": "cmd_name            Backward Temperature Forward Temperature\nenno_serial          2019.11.01.009-GH-B 2019.11.01.009-GH-B\ntmp                                                         \n2021-01-01 01:00:00                41.37               53.48\n2021-01-01 01:15:00                42.84               53.18\n2021-01-01 01:30:00                43.02               51.48\n2021-01-01 01:45:00                42.83               53.72\n2021-01-01 02:00:00                45.08               54.26"
     },
     "execution_count": 72,
     "metadata": {},
     "output_type": "execute_result"
    }
   ],
   "source": [
    "df_GHB.reset_index()\n",
    "df_GHB.index = pd.to_datetime(df_GHB['tmp'])\n",
    "df_GHB=df_GHB.drop([\"id\", \"cmd_id\", \"device_name\", \"createdAt\", \"updatedAt\", \"tmp\"], axis=1)\n",
    "df_GHB = df_GHB.pivot_table(index=[\"tmp\"], columns=[\"cmd_name\", \"enno_serial\"], values=\"value\")\n",
    "\n",
    "df_GHB.head()\n",
    "\n"
   ]
  },
  {
   "cell_type": "code",
   "execution_count": 73,
   "metadata": {},
   "outputs": [],
   "source": [
    "df_merged = pd.merge(df_GHA, df_GHB, how=\"inner\", right_index=True, left_index=True)"
   ]
  },
  {
   "cell_type": "code",
   "execution_count": 74,
   "metadata": {},
   "outputs": [
    {
     "data": {
      "text/html": "<div>\n<style scoped>\n    .dataframe tbody tr th:only-of-type {\n        vertical-align: middle;\n    }\n\n    .dataframe tbody tr th {\n        vertical-align: top;\n    }\n\n    .dataframe thead tr th {\n        text-align: left;\n    }\n\n    .dataframe thead tr:last-of-type th {\n        text-align: right;\n    }\n</style>\n<table border=\"1\" class=\"dataframe\">\n  <thead>\n    <tr>\n      <th>cmd_name</th>\n      <th>Backward Temperature</th>\n      <th>Forward Temperature</th>\n      <th>Backward Temperature</th>\n      <th>Forward Temperature</th>\n    </tr>\n    <tr>\n      <th>enno_serial</th>\n      <th>2019.11.01.009-GH-A</th>\n      <th>2019.11.01.009-GH-A</th>\n      <th>2019.11.01.009-GH-B</th>\n      <th>2019.11.01.009-GH-B</th>\n    </tr>\n    <tr>\n      <th>tmp</th>\n      <th></th>\n      <th></th>\n      <th></th>\n      <th></th>\n    </tr>\n  </thead>\n  <tbody>\n    <tr>\n      <th>2021-01-01 01:00:00</th>\n      <td>28.48</td>\n      <td>34.26</td>\n      <td>41.37</td>\n      <td>53.48</td>\n    </tr>\n    <tr>\n      <th>2021-01-01 01:15:00</th>\n      <td>30.02</td>\n      <td>34.14</td>\n      <td>42.84</td>\n      <td>53.18</td>\n    </tr>\n    <tr>\n      <th>2021-01-01 01:30:00</th>\n      <td>30.80</td>\n      <td>34.62</td>\n      <td>43.02</td>\n      <td>51.48</td>\n    </tr>\n    <tr>\n      <th>2021-01-01 01:45:00</th>\n      <td>27.02</td>\n      <td>33.23</td>\n      <td>42.83</td>\n      <td>53.72</td>\n    </tr>\n    <tr>\n      <th>2021-01-01 02:00:00</th>\n      <td>26.15</td>\n      <td>32.75</td>\n      <td>45.08</td>\n      <td>54.26</td>\n    </tr>\n  </tbody>\n</table>\n</div>",
      "text/plain": "cmd_name            Backward Temperature Forward Temperature  \\\nenno_serial          2019.11.01.009-GH-A 2019.11.01.009-GH-A   \ntmp                                                            \n2021-01-01 01:00:00                28.48               34.26   \n2021-01-01 01:15:00                30.02               34.14   \n2021-01-01 01:30:00                30.80               34.62   \n2021-01-01 01:45:00                27.02               33.23   \n2021-01-01 02:00:00                26.15               32.75   \n\ncmd_name            Backward Temperature Forward Temperature  \nenno_serial          2019.11.01.009-GH-B 2019.11.01.009-GH-B  \ntmp                                                           \n2021-01-01 01:00:00                41.37               53.48  \n2021-01-01 01:15:00                42.84               53.18  \n2021-01-01 01:30:00                43.02               51.48  \n2021-01-01 01:45:00                42.83               53.72  \n2021-01-01 02:00:00                45.08               54.26  "
     },
     "execution_count": 74,
     "metadata": {},
     "output_type": "execute_result"
    }
   ],
   "source": [
    "df_merged.head()"
   ]
  },
  {
   "cell_type": "code",
   "execution_count": 75,
   "metadata": {},
   "outputs": [
    {
     "data": {
      "text/html": "<div>\n<style scoped>\n    .dataframe tbody tr th:only-of-type {\n        vertical-align: middle;\n    }\n\n    .dataframe tbody tr th {\n        vertical-align: top;\n    }\n\n    .dataframe thead th {\n        text-align: right;\n    }\n</style>\n<table border=\"1\" class=\"dataframe\">\n  <thead>\n    <tr style=\"text-align: right;\">\n      <th>cmd_name</th>\n      <th>gh_globalRadiationHorizPlan_wm2</th>\n      <th>tt_airTemperature_degrec</th>\n    </tr>\n    <tr>\n      <th>tmp</th>\n      <th></th>\n      <th></th>\n    </tr>\n  </thead>\n  <tbody>\n    <tr>\n      <th>2021-01-01 00:00:00</th>\n      <td>0.0</td>\n      <td>3.1</td>\n    </tr>\n    <tr>\n      <th>2021-01-01 00:15:00</th>\n      <td>0.0</td>\n      <td>2.8</td>\n    </tr>\n    <tr>\n      <th>2021-01-01 00:30:00</th>\n      <td>0.0</td>\n      <td>2.8</td>\n    </tr>\n    <tr>\n      <th>2021-01-01 00:45:00</th>\n      <td>0.0</td>\n      <td>2.9</td>\n    </tr>\n    <tr>\n      <th>2021-01-01 01:00:00</th>\n      <td>0.0</td>\n      <td>2.9</td>\n    </tr>\n  </tbody>\n</table>\n</div>",
      "text/plain": "cmd_name             gh_globalRadiationHorizPlan_wm2  tt_airTemperature_degrec\ntmp                                                                           \n2021-01-01 00:00:00                              0.0                       3.1\n2021-01-01 00:15:00                              0.0                       2.8\n2021-01-01 00:30:00                              0.0                       2.8\n2021-01-01 00:45:00                              0.0                       2.9\n2021-01-01 01:00:00                              0.0                       2.9"
     },
     "execution_count": 75,
     "metadata": {},
     "output_type": "execute_result"
    }
   ],
   "source": [
    "df_meteo.index = pd.to_datetime(df_meteo['tmp'])\n",
    "df_meteo=df_meteo.drop([\"tmp\", \"cmd_id\", \"device_name\", \"createdAt\", \"updatedAt\", \"key\", \"id\"], axis=1)\n",
    "df_meteo = df_meteo.pivot_table(index=[\"tmp\"], columns=[\"cmd_name\"], values=\"value\")\n",
    "\n",
    "df_meteo.head()\n"
   ]
  },
  {
   "cell_type": "code",
   "execution_count": 76,
   "metadata": {},
   "outputs": [
    {
     "data": {
      "text/html": "<div>\n<style scoped>\n    .dataframe tbody tr th:only-of-type {\n        vertical-align: middle;\n    }\n\n    .dataframe tbody tr th {\n        vertical-align: top;\n    }\n\n    .dataframe thead th {\n        text-align: right;\n    }\n</style>\n<table border=\"1\" class=\"dataframe\">\n  <thead>\n    <tr style=\"text-align: right;\">\n      <th></th>\n      <th>BT-A</th>\n      <th>FT-A</th>\n      <th>BT-B</th>\n      <th>FT-B</th>\n      <th>GH</th>\n      <th>TT</th>\n    </tr>\n    <tr>\n      <th>tmp</th>\n      <th></th>\n      <th></th>\n      <th></th>\n      <th></th>\n      <th></th>\n      <th></th>\n    </tr>\n  </thead>\n  <tbody>\n    <tr>\n      <th>2021-01-01 01:00:00</th>\n      <td>28.48</td>\n      <td>34.26</td>\n      <td>41.37</td>\n      <td>53.48</td>\n      <td>0.0</td>\n      <td>2.9</td>\n    </tr>\n    <tr>\n      <th>2021-01-01 01:15:00</th>\n      <td>30.02</td>\n      <td>34.14</td>\n      <td>42.84</td>\n      <td>53.18</td>\n      <td>0.0</td>\n      <td>3.1</td>\n    </tr>\n    <tr>\n      <th>2021-01-01 01:30:00</th>\n      <td>30.80</td>\n      <td>34.62</td>\n      <td>43.02</td>\n      <td>51.48</td>\n      <td>0.0</td>\n      <td>3.0</td>\n    </tr>\n    <tr>\n      <th>2021-01-01 01:45:00</th>\n      <td>27.02</td>\n      <td>33.23</td>\n      <td>42.83</td>\n      <td>53.72</td>\n      <td>0.0</td>\n      <td>2.9</td>\n    </tr>\n    <tr>\n      <th>2021-01-01 02:00:00</th>\n      <td>26.15</td>\n      <td>32.75</td>\n      <td>45.08</td>\n      <td>54.26</td>\n      <td>0.0</td>\n      <td>2.8</td>\n    </tr>\n  </tbody>\n</table>\n</div>",
      "text/plain": "                      BT-A   FT-A   BT-B   FT-B   GH   TT\ntmp                                                      \n2021-01-01 01:00:00  28.48  34.26  41.37  53.48  0.0  2.9\n2021-01-01 01:15:00  30.02  34.14  42.84  53.18  0.0  3.1\n2021-01-01 01:30:00  30.80  34.62  43.02  51.48  0.0  3.0\n2021-01-01 01:45:00  27.02  33.23  42.83  53.72  0.0  2.9\n2021-01-01 02:00:00  26.15  32.75  45.08  54.26  0.0  2.8"
     },
     "execution_count": 76,
     "metadata": {},
     "output_type": "execute_result"
    }
   ],
   "source": [
    "df_final = pd.merge(df_merged, df_meteo, how=\"inner\", right_index=True, left_index=True)\n",
    "df_final.columns = ['BT-A', 'FT-A','BT-B', 'FT-B', 'GH', 'TT' ]\n",
    "df_final.head()"
   ]
  },
  {
   "cell_type": "code",
   "execution_count": 77,
   "metadata": {},
   "outputs": [],
   "source": [
    "df_final.to_csv('final_aggregation', index=True)"
   ]
  }
 ]
}